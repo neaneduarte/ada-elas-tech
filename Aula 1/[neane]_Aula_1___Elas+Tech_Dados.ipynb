{
  "nbformat": 4,
  "nbformat_minor": 0,
  "metadata": {
    "colab": {
      "provenance": []
    },
    "kernelspec": {
      "name": "python3",
      "display_name": "Python 3"
    },
    "language_info": {
      "name": "python"
    }
  },
  "cells": [
    {
      "cell_type": "markdown",
      "source": [
        "# Aula 1 | **Primeiros passos em Python**\n",
        "\n",
        "Hoje vamos:\n",
        "- Revisar alguns conceitos iniciais\n",
        "- Explorar dados reais usando Python\n",
        "- Aprender os primeiros comandos com **Pandas** e **Matplotlib**\n",
        "- Criar gráficos para responder perguntas\n",
        "\n",
        "---\n"
      ],
      "metadata": {
        "id": "JZRDpnncO96K"
      }
    },
    {
      "cell_type": "markdown",
      "source": [
        "## Conceitos básicos\n",
        "\n",
        "<img src=\"https://media0.giphy.com/media/v1.Y2lkPTc5MGI3NjExNHBwNDhvMDRoNDlvb2pkYnhtdGt4YXhqaWw1Y2Ixa200M2gxZDcxNiZlcD12MV9pbnRlcm5hbF9naWZfYnlfaWQmY3Q9Zw/109fP7pua6Osgw/giphy.gif\" width=\"300\">\n"
      ],
      "metadata": {
        "id": "yoOu-9o2PGOu"
      }
    },
    {
      "cell_type": "markdown",
      "source": [
        "### Tipos de dados\n",
        "`int`, `float`, `str`, `bool`"
      ],
      "metadata": {
        "id": "fNHN4nLIPGfJ"
      }
    },
    {
      "cell_type": "code",
      "source": [
        "idade = 32\n",
        "nome = \"Malu\"\n",
        "tem_acesso = True\n",
        "nota = 8.5"
      ],
      "metadata": {
        "id": "7LovE34K5sHL"
      },
      "execution_count": 1,
      "outputs": []
    },
    {
      "cell_type": "code",
      "source": [
        "print (type(idade), type(nome), type(tem_acesso), type(nota))"
      ],
      "metadata": {
        "colab": {
          "base_uri": "https://localhost:8080/"
        },
        "id": "HGcPxngT6CQD",
        "outputId": "c731952e-dc54-42f4-eb6d-7dfa1e35cb7c"
      },
      "execution_count": 2,
      "outputs": [
        {
          "output_type": "stream",
          "name": "stdout",
          "text": [
            "<class 'int'> <class 'str'> <class 'bool'> <class 'float'>\n"
          ]
        }
      ]
    },
    {
      "cell_type": "code",
      "source": [
        "idade = \"32\"\n",
        "type(idade)"
      ],
      "metadata": {
        "colab": {
          "base_uri": "https://localhost:8080/"
        },
        "id": "dCCIWcRS7AIX",
        "outputId": "5df74ae4-364f-41ee-dd8a-9443cc934e2d"
      },
      "execution_count": 5,
      "outputs": [
        {
          "output_type": "execute_result",
          "data": {
            "text/plain": [
              "str"
            ]
          },
          "metadata": {},
          "execution_count": 5
        }
      ]
    },
    {
      "cell_type": "code",
      "source": [
        "idade_int = int(idade)\n",
        "type(idade_int)"
      ],
      "metadata": {
        "colab": {
          "base_uri": "https://localhost:8080/"
        },
        "id": "Wjq4LHQ37LD3",
        "outputId": "0b9aa10b-f8fb-4233-82a8-ad3ad4fd6148"
      },
      "execution_count": 6,
      "outputs": [
        {
          "output_type": "execute_result",
          "data": {
            "text/plain": [
              "int"
            ]
          },
          "metadata": {},
          "execution_count": 6
        }
      ]
    },
    {
      "cell_type": "code",
      "source": [
        "valor = \"10.5\"\n",
        "valor_float = float(valor) # convertendo de str para float\n",
        "valor_int = int(valor_float) # convertendo de float para int\n",
        "\n",
        "\n",
        "print(f'Exemplo float: {type(valor_float)}:{valor_float}')\n",
        "print(f'Exemplo int: {type(valor_int)}:{valor_int}')"
      ],
      "metadata": {
        "colab": {
          "base_uri": "https://localhost:8080/"
        },
        "id": "BH00h23a7eV5",
        "outputId": "6169c548-870c-4eff-dd0a-474d410b9ce4"
      },
      "execution_count": 7,
      "outputs": [
        {
          "output_type": "stream",
          "name": "stdout",
          "text": [
            "Exemplo float: <class 'float'>:10.5\n",
            "Exemplo int: <class 'int'>:10\n"
          ]
        }
      ]
    },
    {
      "cell_type": "markdown",
      "source": [
        "### Listas\n",
        "\n",
        "`coleção de valores em python`"
      ],
      "metadata": {
        "id": "23rY5uTZW978"
      }
    },
    {
      "cell_type": "code",
      "source": [
        "nome = [\"Ana\", \"Malu\", \"Cristiane\", \"Paula\", \"Carol\", \"Julia\", \"Maria\"]\n",
        "print(type(nome))"
      ],
      "metadata": {
        "colab": {
          "base_uri": "https://localhost:8080/"
        },
        "id": "vm1pkTj087Dj",
        "outputId": "bbfc5231-b431-4c6f-bf90-c111948b2cca"
      },
      "execution_count": 13,
      "outputs": [
        {
          "output_type": "stream",
          "name": "stdout",
          "text": [
            "<class 'list'>\n"
          ]
        }
      ]
    },
    {
      "cell_type": "code",
      "source": [
        "print(nome[0]) # primeiro elemento\n",
        "print(nome[-1]) # ultimo elemento\n",
        "print(nome[2:4]) #meuica da lista\n",
        "\n",
        "\n",
        "nome_exemplo = nome[2:4]\n",
        "print(nome_exemplo)\n",
        "\n"
      ],
      "metadata": {
        "colab": {
          "base_uri": "https://localhost:8080/"
        },
        "id": "lZBfW0ag9QYQ",
        "outputId": "a9598ef9-07ba-4e5a-f6c2-f5d3d24108f1"
      },
      "execution_count": 16,
      "outputs": [
        {
          "output_type": "stream",
          "name": "stdout",
          "text": [
            "Ana\n",
            "Amanda\n",
            "['Paula', 'Carol']\n",
            "['Paula', 'Carol']\n"
          ]
        }
      ]
    },
    {
      "cell_type": "code",
      "source": [
        "nome.append(\"Amanda\")\n",
        "print(nome)"
      ],
      "metadata": {
        "colab": {
          "base_uri": "https://localhost:8080/"
        },
        "id": "rAHnRnPU9vbc",
        "outputId": "1e440be2-b9f5-4be6-8854-c74616a04c57"
      },
      "execution_count": 14,
      "outputs": [
        {
          "output_type": "stream",
          "name": "stdout",
          "text": [
            "['Ana', 'Malu', 'Cristiane', 'Paula', 'Carol', 'Julia', 'Maria', 'Amanda']\n"
          ]
        }
      ]
    },
    {
      "cell_type": "code",
      "source": [
        "nome.remove(\"Malu\")\n",
        "print(nome)"
      ],
      "metadata": {
        "colab": {
          "base_uri": "https://localhost:8080/"
        },
        "id": "7cbC2GeI-CUJ",
        "outputId": "43cd3ae9-ba28-4f9f-ea89-e11fd1328397"
      },
      "execution_count": 15,
      "outputs": [
        {
          "output_type": "stream",
          "name": "stdout",
          "text": [
            "['Ana', 'Cristiane', 'Paula', 'Carol', 'Julia', 'Maria', 'Amanda']\n"
          ]
        }
      ]
    },
    {
      "cell_type": "code",
      "source": [
        "print(\"Anna\" in nome)"
      ],
      "metadata": {
        "colab": {
          "base_uri": "https://localhost:8080/"
        },
        "id": "cHlU8e8P-ddQ",
        "outputId": "de4a810a-b08c-42d8-a409-f599d237c810"
      },
      "execution_count": 17,
      "outputs": [
        {
          "output_type": "stream",
          "name": "stdout",
          "text": [
            "False\n"
          ]
        }
      ]
    },
    {
      "cell_type": "markdown",
      "source": [
        "### Estruturas de decisão\n",
        "`if`, `elif` e `else`"
      ],
      "metadata": {
        "id": "OQsNzF6jQUVE"
      }
    },
    {
      "cell_type": "code",
      "source": [
        "nota = 8\n",
        "\n",
        "if nota >= 7:\n",
        "  print(\"Aprovado\")\n",
        "elif nota >= 5:\n",
        "  print(\"Recuperação\")\n",
        "else:\n",
        "  print(\"Reprovado\")"
      ],
      "metadata": {
        "colab": {
          "base_uri": "https://localhost:8080/"
        },
        "id": "_0NC8hQA-ntq",
        "outputId": "142bff8e-f0f9-4a2d-ebd0-6b0ea8d2e22c"
      },
      "execution_count": 18,
      "outputs": [
        {
          "output_type": "stream",
          "name": "stdout",
          "text": [
            "Aprovado\n"
          ]
        }
      ]
    },
    {
      "cell_type": "code",
      "source": [
        "nota = 5\n",
        "\n",
        "if nota >= 9:\n",
        "  print(\"Excelente\")\n",
        "elif nota >= 7:\n",
        "  print(\"Bom Desempenho\")\n",
        "elif nota >= 5:\n",
        "  print(\"Em Recuperação\")\n",
        "else:\n",
        "  print(\"Reprovado\")"
      ],
      "metadata": {
        "colab": {
          "base_uri": "https://localhost:8080/"
        },
        "id": "0J2HkgAX_VQX",
        "outputId": "bd11b4f9-6682-4f0e-ef14-a7f77b16befb"
      },
      "execution_count": 19,
      "outputs": [
        {
          "output_type": "stream",
          "name": "stdout",
          "text": [
            "Em Recuperação\n"
          ]
        }
      ]
    },
    {
      "cell_type": "markdown",
      "source": [
        "### Loops\n",
        "`for` e `while`"
      ],
      "metadata": {
        "id": "issoZhLzQdDt"
      }
    },
    {
      "cell_type": "code",
      "source": [
        "#for sabe exatamente a sequencia que vai percorrer\n",
        "\n",
        "for i in range(3):\n",
        "  print(f'Rodando o loop {i + 1}')"
      ],
      "metadata": {
        "colab": {
          "base_uri": "https://localhost:8080/"
        },
        "id": "D9Q28xz3_Eia",
        "outputId": "38af8ae7-c064-49c7-c9af-c745d5d5a6f1"
      },
      "execution_count": 20,
      "outputs": [
        {
          "output_type": "stream",
          "name": "stdout",
          "text": [
            "Rodando o loop 1\n",
            "Rodando o loop 2\n",
            "Rodando o loop 3\n"
          ]
        }
      ]
    },
    {
      "cell_type": "code",
      "source": [
        "#while não sabe se o tamanho da lista, mas tem uma condição de parada\n",
        "\n",
        "contador = 1\n",
        "\n",
        "while contador <= 10:\n",
        "  print(f'Contando ... {contador}')\n",
        "  contador += 1 #incrementando o valor do contator\n"
      ],
      "metadata": {
        "colab": {
          "base_uri": "https://localhost:8080/"
        },
        "id": "qNEtK3DxAPxq",
        "outputId": "bfd6becd-3eda-4d4c-ac8b-782c5015a8ae"
      },
      "execution_count": 22,
      "outputs": [
        {
          "output_type": "stream",
          "name": "stdout",
          "text": [
            "Contando ... 1\n",
            "Contando ... 2\n",
            "Contando ... 3\n",
            "Contando ... 4\n",
            "Contando ... 5\n",
            "Contando ... 6\n",
            "Contando ... 7\n",
            "Contando ... 8\n",
            "Contando ... 9\n",
            "Contando ... 10\n"
          ]
        }
      ]
    },
    {
      "cell_type": "markdown",
      "source": [
        "## 🎧 Explorando dados do Spotify\n",
        "\n",
        "<img src=\"https://media0.giphy.com/media/v1.Y2lkPTc5MGI3NjExaWJtNjFxcmJ6YXk4eDAyMXVyc3o3cGF2NGF6czhkaXl1anAzNzU0ciZlcD12MV9pbnRlcm5hbF9naWZfYnlfaWQmY3Q9Zw/bgDd8eRNi6NK8/giphy.gif\" width=\"300\">\n",
        "\n",
        "\n",
        "Aqui, vamos explorar dados extraídos da conta de um usuário do Spotify para entender um pouco do seu perfil e gosto musical. Trabalharemos com dois datasets:\n",
        "1. **playlists_tracks**: contém a listagem de todas as suas playlists públicas e as músicas contidas nelas\n",
        "2. **genres_artists**: contém a listagem de artistas presentes nas playlists e seus gêneros"
      ],
      "metadata": {
        "id": "7yytden1Q1hk"
      }
    },
    {
      "cell_type": "markdown",
      "source": [
        "### Leitura e visão geral dos dados"
      ],
      "metadata": {
        "id": "RYuEgKrlV0hB"
      }
    },
    {
      "cell_type": "code",
      "source": [
        "import pandas as pd"
      ],
      "metadata": {
        "id": "xCjOBEpABdBz"
      },
      "execution_count": 23,
      "outputs": []
    },
    {
      "cell_type": "code",
      "source": [
        "playlists_tracks = pd.read_csv('./playlists_tracks')\n",
        "genres_artists = pd.read_csv('./genres_artists')"
      ],
      "metadata": {
        "id": "RmrdLh09CDQL"
      },
      "execution_count": 26,
      "outputs": []
    },
    {
      "cell_type": "code",
      "source": [
        "playlists_tracks.shape"
      ],
      "metadata": {
        "colab": {
          "base_uri": "https://localhost:8080/"
        },
        "id": "vxb9Oc52Chf7",
        "outputId": "942a3225-7992-4b9d-adb4-78a0ff0bd86c"
      },
      "execution_count": 28,
      "outputs": [
        {
          "output_type": "execute_result",
          "data": {
            "text/plain": [
              "(8661, 10)"
            ]
          },
          "metadata": {},
          "execution_count": 28
        }
      ]
    },
    {
      "cell_type": "code",
      "source": [
        "genres_artists.shape"
      ],
      "metadata": {
        "colab": {
          "base_uri": "https://localhost:8080/"
        },
        "id": "Po2gvgFfCptp",
        "outputId": "8b14671a-9685-4a90-e55a-b3b8e50a3108"
      },
      "execution_count": 29,
      "outputs": [
        {
          "output_type": "execute_result",
          "data": {
            "text/plain": [
              "(934, 3)"
            ]
          },
          "metadata": {},
          "execution_count": 29
        }
      ]
    },
    {
      "cell_type": "code",
      "source": [
        "playlists_tracks.head(3)"
      ],
      "metadata": {
        "colab": {
          "base_uri": "https://localhost:8080/",
          "height": 319
        },
        "id": "bKb16ib4CesL",
        "outputId": "f2de826f-7681-429f-e8fa-45ebafbf6c3a"
      },
      "execution_count": 30,
      "outputs": [
        {
          "output_type": "execute_result",
          "data": {
            "text/plain": [
              "   Unnamed: 0             playlist_id           playlist_name  \\\n",
              "0           0  2VhIiQbHHMKRPEeCukaeZt  Climinha de presencial   \n",
              "1           1  2VhIiQbHHMKRPEeCukaeZt  Climinha de presencial   \n",
              "2           2  2VhIiQbHHMKRPEeCukaeZt  Climinha de presencial   \n",
              "\n",
              "                 track_id                       track_name  \\\n",
              "0  59WN2psjkt1tyaxjspN8fp              Killing In The Name   \n",
              "1  2DlHlPMa4M17kufBvI2lEN                       Chop Suey!   \n",
              "2  3DwQ7AH3xGD9h65ezslm6q  Enter Sandman - Remastered 2021   \n",
              "\n",
              "               artist_names  \\\n",
              "0  Rage Against The Machine   \n",
              "1          System Of A Down   \n",
              "2                 Metallica   \n",
              "\n",
              "                                          album_name album_release_date  \\\n",
              "0  Rage Against The Machine - XX (20th Anniversar...               1992   \n",
              "1                                           Toxicity         2001-09-04   \n",
              "2              Metallica (Remastered Deluxe Box Set)         2021-09-10   \n",
              "\n",
              "   popularity  duration_ms  \n",
              "0          79       313573  \n",
              "1          85       210240  \n",
              "2          83       331560  "
            ],
            "text/html": [
              "\n",
              "  <div id=\"df-b6cf0059-9f75-4384-a80a-57d9c9528b13\" class=\"colab-df-container\">\n",
              "    <div>\n",
              "<style scoped>\n",
              "    .dataframe tbody tr th:only-of-type {\n",
              "        vertical-align: middle;\n",
              "    }\n",
              "\n",
              "    .dataframe tbody tr th {\n",
              "        vertical-align: top;\n",
              "    }\n",
              "\n",
              "    .dataframe thead th {\n",
              "        text-align: right;\n",
              "    }\n",
              "</style>\n",
              "<table border=\"1\" class=\"dataframe\">\n",
              "  <thead>\n",
              "    <tr style=\"text-align: right;\">\n",
              "      <th></th>\n",
              "      <th>Unnamed: 0</th>\n",
              "      <th>playlist_id</th>\n",
              "      <th>playlist_name</th>\n",
              "      <th>track_id</th>\n",
              "      <th>track_name</th>\n",
              "      <th>artist_names</th>\n",
              "      <th>album_name</th>\n",
              "      <th>album_release_date</th>\n",
              "      <th>popularity</th>\n",
              "      <th>duration_ms</th>\n",
              "    </tr>\n",
              "  </thead>\n",
              "  <tbody>\n",
              "    <tr>\n",
              "      <th>0</th>\n",
              "      <td>0</td>\n",
              "      <td>2VhIiQbHHMKRPEeCukaeZt</td>\n",
              "      <td>Climinha de presencial</td>\n",
              "      <td>59WN2psjkt1tyaxjspN8fp</td>\n",
              "      <td>Killing In The Name</td>\n",
              "      <td>Rage Against The Machine</td>\n",
              "      <td>Rage Against The Machine - XX (20th Anniversar...</td>\n",
              "      <td>1992</td>\n",
              "      <td>79</td>\n",
              "      <td>313573</td>\n",
              "    </tr>\n",
              "    <tr>\n",
              "      <th>1</th>\n",
              "      <td>1</td>\n",
              "      <td>2VhIiQbHHMKRPEeCukaeZt</td>\n",
              "      <td>Climinha de presencial</td>\n",
              "      <td>2DlHlPMa4M17kufBvI2lEN</td>\n",
              "      <td>Chop Suey!</td>\n",
              "      <td>System Of A Down</td>\n",
              "      <td>Toxicity</td>\n",
              "      <td>2001-09-04</td>\n",
              "      <td>85</td>\n",
              "      <td>210240</td>\n",
              "    </tr>\n",
              "    <tr>\n",
              "      <th>2</th>\n",
              "      <td>2</td>\n",
              "      <td>2VhIiQbHHMKRPEeCukaeZt</td>\n",
              "      <td>Climinha de presencial</td>\n",
              "      <td>3DwQ7AH3xGD9h65ezslm6q</td>\n",
              "      <td>Enter Sandman - Remastered 2021</td>\n",
              "      <td>Metallica</td>\n",
              "      <td>Metallica (Remastered Deluxe Box Set)</td>\n",
              "      <td>2021-09-10</td>\n",
              "      <td>83</td>\n",
              "      <td>331560</td>\n",
              "    </tr>\n",
              "  </tbody>\n",
              "</table>\n",
              "</div>\n",
              "    <div class=\"colab-df-buttons\">\n",
              "\n",
              "  <div class=\"colab-df-container\">\n",
              "    <button class=\"colab-df-convert\" onclick=\"convertToInteractive('df-b6cf0059-9f75-4384-a80a-57d9c9528b13')\"\n",
              "            title=\"Convert this dataframe to an interactive table.\"\n",
              "            style=\"display:none;\">\n",
              "\n",
              "  <svg xmlns=\"http://www.w3.org/2000/svg\" height=\"24px\" viewBox=\"0 -960 960 960\">\n",
              "    <path d=\"M120-120v-720h720v720H120Zm60-500h600v-160H180v160Zm220 220h160v-160H400v160Zm0 220h160v-160H400v160ZM180-400h160v-160H180v160Zm440 0h160v-160H620v160ZM180-180h160v-160H180v160Zm440 0h160v-160H620v160Z\"/>\n",
              "  </svg>\n",
              "    </button>\n",
              "\n",
              "  <style>\n",
              "    .colab-df-container {\n",
              "      display:flex;\n",
              "      gap: 12px;\n",
              "    }\n",
              "\n",
              "    .colab-df-convert {\n",
              "      background-color: #E8F0FE;\n",
              "      border: none;\n",
              "      border-radius: 50%;\n",
              "      cursor: pointer;\n",
              "      display: none;\n",
              "      fill: #1967D2;\n",
              "      height: 32px;\n",
              "      padding: 0 0 0 0;\n",
              "      width: 32px;\n",
              "    }\n",
              "\n",
              "    .colab-df-convert:hover {\n",
              "      background-color: #E2EBFA;\n",
              "      box-shadow: 0px 1px 2px rgba(60, 64, 67, 0.3), 0px 1px 3px 1px rgba(60, 64, 67, 0.15);\n",
              "      fill: #174EA6;\n",
              "    }\n",
              "\n",
              "    .colab-df-buttons div {\n",
              "      margin-bottom: 4px;\n",
              "    }\n",
              "\n",
              "    [theme=dark] .colab-df-convert {\n",
              "      background-color: #3B4455;\n",
              "      fill: #D2E3FC;\n",
              "    }\n",
              "\n",
              "    [theme=dark] .colab-df-convert:hover {\n",
              "      background-color: #434B5C;\n",
              "      box-shadow: 0px 1px 3px 1px rgba(0, 0, 0, 0.15);\n",
              "      filter: drop-shadow(0px 1px 2px rgba(0, 0, 0, 0.3));\n",
              "      fill: #FFFFFF;\n",
              "    }\n",
              "  </style>\n",
              "\n",
              "    <script>\n",
              "      const buttonEl =\n",
              "        document.querySelector('#df-b6cf0059-9f75-4384-a80a-57d9c9528b13 button.colab-df-convert');\n",
              "      buttonEl.style.display =\n",
              "        google.colab.kernel.accessAllowed ? 'block' : 'none';\n",
              "\n",
              "      async function convertToInteractive(key) {\n",
              "        const element = document.querySelector('#df-b6cf0059-9f75-4384-a80a-57d9c9528b13');\n",
              "        const dataTable =\n",
              "          await google.colab.kernel.invokeFunction('convertToInteractive',\n",
              "                                                    [key], {});\n",
              "        if (!dataTable) return;\n",
              "\n",
              "        const docLinkHtml = 'Like what you see? Visit the ' +\n",
              "          '<a target=\"_blank\" href=https://colab.research.google.com/notebooks/data_table.ipynb>data table notebook</a>'\n",
              "          + ' to learn more about interactive tables.';\n",
              "        element.innerHTML = '';\n",
              "        dataTable['output_type'] = 'display_data';\n",
              "        await google.colab.output.renderOutput(dataTable, element);\n",
              "        const docLink = document.createElement('div');\n",
              "        docLink.innerHTML = docLinkHtml;\n",
              "        element.appendChild(docLink);\n",
              "      }\n",
              "    </script>\n",
              "  </div>\n",
              "\n",
              "\n",
              "    <div id=\"df-6a3ae201-065e-4845-827f-735e931a7ce6\">\n",
              "      <button class=\"colab-df-quickchart\" onclick=\"quickchart('df-6a3ae201-065e-4845-827f-735e931a7ce6')\"\n",
              "                title=\"Suggest charts\"\n",
              "                style=\"display:none;\">\n",
              "\n",
              "<svg xmlns=\"http://www.w3.org/2000/svg\" height=\"24px\"viewBox=\"0 0 24 24\"\n",
              "     width=\"24px\">\n",
              "    <g>\n",
              "        <path d=\"M19 3H5c-1.1 0-2 .9-2 2v14c0 1.1.9 2 2 2h14c1.1 0 2-.9 2-2V5c0-1.1-.9-2-2-2zM9 17H7v-7h2v7zm4 0h-2V7h2v10zm4 0h-2v-4h2v4z\"/>\n",
              "    </g>\n",
              "</svg>\n",
              "      </button>\n",
              "\n",
              "<style>\n",
              "  .colab-df-quickchart {\n",
              "      --bg-color: #E8F0FE;\n",
              "      --fill-color: #1967D2;\n",
              "      --hover-bg-color: #E2EBFA;\n",
              "      --hover-fill-color: #174EA6;\n",
              "      --disabled-fill-color: #AAA;\n",
              "      --disabled-bg-color: #DDD;\n",
              "  }\n",
              "\n",
              "  [theme=dark] .colab-df-quickchart {\n",
              "      --bg-color: #3B4455;\n",
              "      --fill-color: #D2E3FC;\n",
              "      --hover-bg-color: #434B5C;\n",
              "      --hover-fill-color: #FFFFFF;\n",
              "      --disabled-bg-color: #3B4455;\n",
              "      --disabled-fill-color: #666;\n",
              "  }\n",
              "\n",
              "  .colab-df-quickchart {\n",
              "    background-color: var(--bg-color);\n",
              "    border: none;\n",
              "    border-radius: 50%;\n",
              "    cursor: pointer;\n",
              "    display: none;\n",
              "    fill: var(--fill-color);\n",
              "    height: 32px;\n",
              "    padding: 0;\n",
              "    width: 32px;\n",
              "  }\n",
              "\n",
              "  .colab-df-quickchart:hover {\n",
              "    background-color: var(--hover-bg-color);\n",
              "    box-shadow: 0 1px 2px rgba(60, 64, 67, 0.3), 0 1px 3px 1px rgba(60, 64, 67, 0.15);\n",
              "    fill: var(--button-hover-fill-color);\n",
              "  }\n",
              "\n",
              "  .colab-df-quickchart-complete:disabled,\n",
              "  .colab-df-quickchart-complete:disabled:hover {\n",
              "    background-color: var(--disabled-bg-color);\n",
              "    fill: var(--disabled-fill-color);\n",
              "    box-shadow: none;\n",
              "  }\n",
              "\n",
              "  .colab-df-spinner {\n",
              "    border: 2px solid var(--fill-color);\n",
              "    border-color: transparent;\n",
              "    border-bottom-color: var(--fill-color);\n",
              "    animation:\n",
              "      spin 1s steps(1) infinite;\n",
              "  }\n",
              "\n",
              "  @keyframes spin {\n",
              "    0% {\n",
              "      border-color: transparent;\n",
              "      border-bottom-color: var(--fill-color);\n",
              "      border-left-color: var(--fill-color);\n",
              "    }\n",
              "    20% {\n",
              "      border-color: transparent;\n",
              "      border-left-color: var(--fill-color);\n",
              "      border-top-color: var(--fill-color);\n",
              "    }\n",
              "    30% {\n",
              "      border-color: transparent;\n",
              "      border-left-color: var(--fill-color);\n",
              "      border-top-color: var(--fill-color);\n",
              "      border-right-color: var(--fill-color);\n",
              "    }\n",
              "    40% {\n",
              "      border-color: transparent;\n",
              "      border-right-color: var(--fill-color);\n",
              "      border-top-color: var(--fill-color);\n",
              "    }\n",
              "    60% {\n",
              "      border-color: transparent;\n",
              "      border-right-color: var(--fill-color);\n",
              "    }\n",
              "    80% {\n",
              "      border-color: transparent;\n",
              "      border-right-color: var(--fill-color);\n",
              "      border-bottom-color: var(--fill-color);\n",
              "    }\n",
              "    90% {\n",
              "      border-color: transparent;\n",
              "      border-bottom-color: var(--fill-color);\n",
              "    }\n",
              "  }\n",
              "</style>\n",
              "\n",
              "      <script>\n",
              "        async function quickchart(key) {\n",
              "          const quickchartButtonEl =\n",
              "            document.querySelector('#' + key + ' button');\n",
              "          quickchartButtonEl.disabled = true;  // To prevent multiple clicks.\n",
              "          quickchartButtonEl.classList.add('colab-df-spinner');\n",
              "          try {\n",
              "            const charts = await google.colab.kernel.invokeFunction(\n",
              "                'suggestCharts', [key], {});\n",
              "          } catch (error) {\n",
              "            console.error('Error during call to suggestCharts:', error);\n",
              "          }\n",
              "          quickchartButtonEl.classList.remove('colab-df-spinner');\n",
              "          quickchartButtonEl.classList.add('colab-df-quickchart-complete');\n",
              "        }\n",
              "        (() => {\n",
              "          let quickchartButtonEl =\n",
              "            document.querySelector('#df-6a3ae201-065e-4845-827f-735e931a7ce6 button');\n",
              "          quickchartButtonEl.style.display =\n",
              "            google.colab.kernel.accessAllowed ? 'block' : 'none';\n",
              "        })();\n",
              "      </script>\n",
              "    </div>\n",
              "\n",
              "    </div>\n",
              "  </div>\n"
            ],
            "application/vnd.google.colaboratory.intrinsic+json": {
              "type": "dataframe",
              "variable_name": "playlists_tracks",
              "summary": "{\n  \"name\": \"playlists_tracks\",\n  \"rows\": 8661,\n  \"fields\": [\n    {\n      \"column\": \"Unnamed: 0\",\n      \"properties\": {\n        \"dtype\": \"number\",\n        \"std\": 2501,\n        \"min\": 0,\n        \"max\": 8679,\n        \"num_unique_values\": 8661,\n        \"samples\": [\n          3271,\n          239,\n          3256\n        ],\n        \"semantic_type\": \"\",\n        \"description\": \"\"\n      }\n    },\n    {\n      \"column\": \"playlist_id\",\n      \"properties\": {\n        \"dtype\": \"category\",\n        \"num_unique_values\": 89,\n        \"samples\": [\n          \"0no2KKi6SivIxpuEpXwl7v\",\n          \"2woXzoH4bx2rhWP6t4N48I\",\n          \"7cboDxFx52hatgrCYRGoIh\"\n        ],\n        \"semantic_type\": \"\",\n        \"description\": \"\"\n      }\n    },\n    {\n      \"column\": \"playlist_name\",\n      \"properties\": {\n        \"dtype\": \"category\",\n        \"num_unique_values\": 89,\n        \"samples\": [\n          \"Manh\\u00e3 de domingo\",\n          \"Cl\\u00e1ssicos br\",\n          \"Original vs versao\"\n        ],\n        \"semantic_type\": \"\",\n        \"description\": \"\"\n      }\n    },\n    {\n      \"column\": \"track_id\",\n      \"properties\": {\n        \"dtype\": \"string\",\n        \"num_unique_values\": 4579,\n        \"samples\": [\n          \"0SjUqfCAkQYkNUSAn0p7y1\",\n          \"1zuKjpp4t7BS8JPKi6mkQr\",\n          \"40Gxnw5Vc8hnhGFknXHe3R\"\n        ],\n        \"semantic_type\": \"\",\n        \"description\": \"\"\n      }\n    },\n    {\n      \"column\": \"track_name\",\n      \"properties\": {\n        \"dtype\": \"category\",\n        \"num_unique_values\": 3869,\n        \"samples\": [\n          \"Quem J\\u00e1 Perdeu Um Sonho Aqui?\",\n          \"Bang!\",\n          \"Creep\"\n        ],\n        \"semantic_type\": \"\",\n        \"description\": \"\"\n      }\n    },\n    {\n      \"column\": \"artist_names\",\n      \"properties\": {\n        \"dtype\": \"category\",\n        \"num_unique_values\": 1418,\n        \"samples\": [\n          \"Parcels\",\n          \"Cold War Kids\",\n          \"Josyara\"\n        ],\n        \"semantic_type\": \"\",\n        \"description\": \"\"\n      }\n    },\n    {\n      \"column\": \"album_name\",\n      \"properties\": {\n        \"dtype\": \"category\",\n        \"num_unique_values\": 2478,\n        \"samples\": [\n          \"PRISM (Deluxe)\",\n          \"Prolonging the Magic\",\n          \"Memoirs of an imperfect Angel (International Version)\"\n        ],\n        \"semantic_type\": \"\",\n        \"description\": \"\"\n      }\n    },\n    {\n      \"column\": \"album_release_date\",\n      \"properties\": {\n        \"dtype\": \"category\",\n        \"num_unique_values\": 1654,\n        \"samples\": [\n          \"2017-01-06\",\n          \"2018-05-25\",\n          \"2015-12-18\"\n        ],\n        \"semantic_type\": \"\",\n        \"description\": \"\"\n      }\n    },\n    {\n      \"column\": \"popularity\",\n      \"properties\": {\n        \"dtype\": \"number\",\n        \"std\": 28,\n        \"min\": 0,\n        \"max\": 91,\n        \"num_unique_values\": 92,\n        \"samples\": [\n          50,\n          62,\n          27\n        ],\n        \"semantic_type\": \"\",\n        \"description\": \"\"\n      }\n    },\n    {\n      \"column\": \"duration_ms\",\n      \"properties\": {\n        \"dtype\": \"number\",\n        \"std\": 59203,\n        \"min\": 0,\n        \"max\": 676776,\n        \"num_unique_values\": 3767,\n        \"samples\": [\n          226680,\n          192253,\n          128333\n        ],\n        \"semantic_type\": \"\",\n        \"description\": \"\"\n      }\n    }\n  ]\n}"
            }
          },
          "metadata": {},
          "execution_count": 30
        }
      ]
    },
    {
      "cell_type": "code",
      "source": [
        "genres_artists.head(2)"
      ],
      "metadata": {
        "colab": {
          "base_uri": "https://localhost:8080/",
          "height": 112
        },
        "id": "aJkpBXKaCv9g",
        "outputId": "4f5371b9-57d6-414b-edec-e04be0e8be1a"
      },
      "execution_count": 31,
      "outputs": [
        {
          "output_type": "execute_result",
          "data": {
            "text/plain": [
              "   Unnamed: 0               artist_name  \\\n",
              "0           0  Rage Against The Machine   \n",
              "1           1          System Of A Down   \n",
              "\n",
              "                                              genres  \n",
              "0   rap metal, rap rock, alternative metal, nu metal  \n",
              "1  nu metal, metal, alternative metal, rap metal,...  "
            ],
            "text/html": [
              "\n",
              "  <div id=\"df-1fa511c8-a7be-41f0-8a2e-c40c9f9a2a4e\" class=\"colab-df-container\">\n",
              "    <div>\n",
              "<style scoped>\n",
              "    .dataframe tbody tr th:only-of-type {\n",
              "        vertical-align: middle;\n",
              "    }\n",
              "\n",
              "    .dataframe tbody tr th {\n",
              "        vertical-align: top;\n",
              "    }\n",
              "\n",
              "    .dataframe thead th {\n",
              "        text-align: right;\n",
              "    }\n",
              "</style>\n",
              "<table border=\"1\" class=\"dataframe\">\n",
              "  <thead>\n",
              "    <tr style=\"text-align: right;\">\n",
              "      <th></th>\n",
              "      <th>Unnamed: 0</th>\n",
              "      <th>artist_name</th>\n",
              "      <th>genres</th>\n",
              "    </tr>\n",
              "  </thead>\n",
              "  <tbody>\n",
              "    <tr>\n",
              "      <th>0</th>\n",
              "      <td>0</td>\n",
              "      <td>Rage Against The Machine</td>\n",
              "      <td>rap metal, rap rock, alternative metal, nu metal</td>\n",
              "    </tr>\n",
              "    <tr>\n",
              "      <th>1</th>\n",
              "      <td>1</td>\n",
              "      <td>System Of A Down</td>\n",
              "      <td>nu metal, metal, alternative metal, rap metal,...</td>\n",
              "    </tr>\n",
              "  </tbody>\n",
              "</table>\n",
              "</div>\n",
              "    <div class=\"colab-df-buttons\">\n",
              "\n",
              "  <div class=\"colab-df-container\">\n",
              "    <button class=\"colab-df-convert\" onclick=\"convertToInteractive('df-1fa511c8-a7be-41f0-8a2e-c40c9f9a2a4e')\"\n",
              "            title=\"Convert this dataframe to an interactive table.\"\n",
              "            style=\"display:none;\">\n",
              "\n",
              "  <svg xmlns=\"http://www.w3.org/2000/svg\" height=\"24px\" viewBox=\"0 -960 960 960\">\n",
              "    <path d=\"M120-120v-720h720v720H120Zm60-500h600v-160H180v160Zm220 220h160v-160H400v160Zm0 220h160v-160H400v160ZM180-400h160v-160H180v160Zm440 0h160v-160H620v160ZM180-180h160v-160H180v160Zm440 0h160v-160H620v160Z\"/>\n",
              "  </svg>\n",
              "    </button>\n",
              "\n",
              "  <style>\n",
              "    .colab-df-container {\n",
              "      display:flex;\n",
              "      gap: 12px;\n",
              "    }\n",
              "\n",
              "    .colab-df-convert {\n",
              "      background-color: #E8F0FE;\n",
              "      border: none;\n",
              "      border-radius: 50%;\n",
              "      cursor: pointer;\n",
              "      display: none;\n",
              "      fill: #1967D2;\n",
              "      height: 32px;\n",
              "      padding: 0 0 0 0;\n",
              "      width: 32px;\n",
              "    }\n",
              "\n",
              "    .colab-df-convert:hover {\n",
              "      background-color: #E2EBFA;\n",
              "      box-shadow: 0px 1px 2px rgba(60, 64, 67, 0.3), 0px 1px 3px 1px rgba(60, 64, 67, 0.15);\n",
              "      fill: #174EA6;\n",
              "    }\n",
              "\n",
              "    .colab-df-buttons div {\n",
              "      margin-bottom: 4px;\n",
              "    }\n",
              "\n",
              "    [theme=dark] .colab-df-convert {\n",
              "      background-color: #3B4455;\n",
              "      fill: #D2E3FC;\n",
              "    }\n",
              "\n",
              "    [theme=dark] .colab-df-convert:hover {\n",
              "      background-color: #434B5C;\n",
              "      box-shadow: 0px 1px 3px 1px rgba(0, 0, 0, 0.15);\n",
              "      filter: drop-shadow(0px 1px 2px rgba(0, 0, 0, 0.3));\n",
              "      fill: #FFFFFF;\n",
              "    }\n",
              "  </style>\n",
              "\n",
              "    <script>\n",
              "      const buttonEl =\n",
              "        document.querySelector('#df-1fa511c8-a7be-41f0-8a2e-c40c9f9a2a4e button.colab-df-convert');\n",
              "      buttonEl.style.display =\n",
              "        google.colab.kernel.accessAllowed ? 'block' : 'none';\n",
              "\n",
              "      async function convertToInteractive(key) {\n",
              "        const element = document.querySelector('#df-1fa511c8-a7be-41f0-8a2e-c40c9f9a2a4e');\n",
              "        const dataTable =\n",
              "          await google.colab.kernel.invokeFunction('convertToInteractive',\n",
              "                                                    [key], {});\n",
              "        if (!dataTable) return;\n",
              "\n",
              "        const docLinkHtml = 'Like what you see? Visit the ' +\n",
              "          '<a target=\"_blank\" href=https://colab.research.google.com/notebooks/data_table.ipynb>data table notebook</a>'\n",
              "          + ' to learn more about interactive tables.';\n",
              "        element.innerHTML = '';\n",
              "        dataTable['output_type'] = 'display_data';\n",
              "        await google.colab.output.renderOutput(dataTable, element);\n",
              "        const docLink = document.createElement('div');\n",
              "        docLink.innerHTML = docLinkHtml;\n",
              "        element.appendChild(docLink);\n",
              "      }\n",
              "    </script>\n",
              "  </div>\n",
              "\n",
              "\n",
              "    <div id=\"df-bb2954ab-f15b-4ab8-bc2d-b0159377459b\">\n",
              "      <button class=\"colab-df-quickchart\" onclick=\"quickchart('df-bb2954ab-f15b-4ab8-bc2d-b0159377459b')\"\n",
              "                title=\"Suggest charts\"\n",
              "                style=\"display:none;\">\n",
              "\n",
              "<svg xmlns=\"http://www.w3.org/2000/svg\" height=\"24px\"viewBox=\"0 0 24 24\"\n",
              "     width=\"24px\">\n",
              "    <g>\n",
              "        <path d=\"M19 3H5c-1.1 0-2 .9-2 2v14c0 1.1.9 2 2 2h14c1.1 0 2-.9 2-2V5c0-1.1-.9-2-2-2zM9 17H7v-7h2v7zm4 0h-2V7h2v10zm4 0h-2v-4h2v4z\"/>\n",
              "    </g>\n",
              "</svg>\n",
              "      </button>\n",
              "\n",
              "<style>\n",
              "  .colab-df-quickchart {\n",
              "      --bg-color: #E8F0FE;\n",
              "      --fill-color: #1967D2;\n",
              "      --hover-bg-color: #E2EBFA;\n",
              "      --hover-fill-color: #174EA6;\n",
              "      --disabled-fill-color: #AAA;\n",
              "      --disabled-bg-color: #DDD;\n",
              "  }\n",
              "\n",
              "  [theme=dark] .colab-df-quickchart {\n",
              "      --bg-color: #3B4455;\n",
              "      --fill-color: #D2E3FC;\n",
              "      --hover-bg-color: #434B5C;\n",
              "      --hover-fill-color: #FFFFFF;\n",
              "      --disabled-bg-color: #3B4455;\n",
              "      --disabled-fill-color: #666;\n",
              "  }\n",
              "\n",
              "  .colab-df-quickchart {\n",
              "    background-color: var(--bg-color);\n",
              "    border: none;\n",
              "    border-radius: 50%;\n",
              "    cursor: pointer;\n",
              "    display: none;\n",
              "    fill: var(--fill-color);\n",
              "    height: 32px;\n",
              "    padding: 0;\n",
              "    width: 32px;\n",
              "  }\n",
              "\n",
              "  .colab-df-quickchart:hover {\n",
              "    background-color: var(--hover-bg-color);\n",
              "    box-shadow: 0 1px 2px rgba(60, 64, 67, 0.3), 0 1px 3px 1px rgba(60, 64, 67, 0.15);\n",
              "    fill: var(--button-hover-fill-color);\n",
              "  }\n",
              "\n",
              "  .colab-df-quickchart-complete:disabled,\n",
              "  .colab-df-quickchart-complete:disabled:hover {\n",
              "    background-color: var(--disabled-bg-color);\n",
              "    fill: var(--disabled-fill-color);\n",
              "    box-shadow: none;\n",
              "  }\n",
              "\n",
              "  .colab-df-spinner {\n",
              "    border: 2px solid var(--fill-color);\n",
              "    border-color: transparent;\n",
              "    border-bottom-color: var(--fill-color);\n",
              "    animation:\n",
              "      spin 1s steps(1) infinite;\n",
              "  }\n",
              "\n",
              "  @keyframes spin {\n",
              "    0% {\n",
              "      border-color: transparent;\n",
              "      border-bottom-color: var(--fill-color);\n",
              "      border-left-color: var(--fill-color);\n",
              "    }\n",
              "    20% {\n",
              "      border-color: transparent;\n",
              "      border-left-color: var(--fill-color);\n",
              "      border-top-color: var(--fill-color);\n",
              "    }\n",
              "    30% {\n",
              "      border-color: transparent;\n",
              "      border-left-color: var(--fill-color);\n",
              "      border-top-color: var(--fill-color);\n",
              "      border-right-color: var(--fill-color);\n",
              "    }\n",
              "    40% {\n",
              "      border-color: transparent;\n",
              "      border-right-color: var(--fill-color);\n",
              "      border-top-color: var(--fill-color);\n",
              "    }\n",
              "    60% {\n",
              "      border-color: transparent;\n",
              "      border-right-color: var(--fill-color);\n",
              "    }\n",
              "    80% {\n",
              "      border-color: transparent;\n",
              "      border-right-color: var(--fill-color);\n",
              "      border-bottom-color: var(--fill-color);\n",
              "    }\n",
              "    90% {\n",
              "      border-color: transparent;\n",
              "      border-bottom-color: var(--fill-color);\n",
              "    }\n",
              "  }\n",
              "</style>\n",
              "\n",
              "      <script>\n",
              "        async function quickchart(key) {\n",
              "          const quickchartButtonEl =\n",
              "            document.querySelector('#' + key + ' button');\n",
              "          quickchartButtonEl.disabled = true;  // To prevent multiple clicks.\n",
              "          quickchartButtonEl.classList.add('colab-df-spinner');\n",
              "          try {\n",
              "            const charts = await google.colab.kernel.invokeFunction(\n",
              "                'suggestCharts', [key], {});\n",
              "          } catch (error) {\n",
              "            console.error('Error during call to suggestCharts:', error);\n",
              "          }\n",
              "          quickchartButtonEl.classList.remove('colab-df-spinner');\n",
              "          quickchartButtonEl.classList.add('colab-df-quickchart-complete');\n",
              "        }\n",
              "        (() => {\n",
              "          let quickchartButtonEl =\n",
              "            document.querySelector('#df-bb2954ab-f15b-4ab8-bc2d-b0159377459b button');\n",
              "          quickchartButtonEl.style.display =\n",
              "            google.colab.kernel.accessAllowed ? 'block' : 'none';\n",
              "        })();\n",
              "      </script>\n",
              "    </div>\n",
              "\n",
              "    </div>\n",
              "  </div>\n"
            ],
            "application/vnd.google.colaboratory.intrinsic+json": {
              "type": "dataframe",
              "variable_name": "genres_artists",
              "summary": "{\n  \"name\": \"genres_artists\",\n  \"rows\": 934,\n  \"fields\": [\n    {\n      \"column\": \"Unnamed: 0\",\n      \"properties\": {\n        \"dtype\": \"number\",\n        \"std\": 269,\n        \"min\": 0,\n        \"max\": 933,\n        \"num_unique_values\": 934,\n        \"samples\": [\n          321,\n          70,\n          209\n        ],\n        \"semantic_type\": \"\",\n        \"description\": \"\"\n      }\n    },\n    {\n      \"column\": \"artist_name\",\n      \"properties\": {\n        \"dtype\": \"string\",\n        \"num_unique_values\": 934,\n        \"samples\": [\n          \"Creedence Clearwater Revival\",\n          \"Red Hot Chili Peppers\",\n          \"Pr\\u00f3xima Parada\"\n        ],\n        \"semantic_type\": \"\",\n        \"description\": \"\"\n      }\n    },\n    {\n      \"column\": \"genres\",\n      \"properties\": {\n        \"dtype\": \"category\",\n        \"num_unique_values\": 411,\n        \"samples\": [\n          \"motown, christmas\",\n          \"samba, pagode, mpb\",\n          \"indie, indie rock\"\n        ],\n        \"semantic_type\": \"\",\n        \"description\": \"\"\n      }\n    }\n  ]\n}"
            }
          },
          "metadata": {},
          "execution_count": 31
        }
      ]
    },
    {
      "cell_type": "code",
      "source": [
        "playlists_tracks.info()"
      ],
      "metadata": {
        "colab": {
          "base_uri": "https://localhost:8080/"
        },
        "id": "L51QK2seC2E7",
        "outputId": "62db4694-9ae4-4db9-e70f-360d674fe8d6"
      },
      "execution_count": 32,
      "outputs": [
        {
          "output_type": "stream",
          "name": "stdout",
          "text": [
            "<class 'pandas.core.frame.DataFrame'>\n",
            "RangeIndex: 8661 entries, 0 to 8660\n",
            "Data columns (total 10 columns):\n",
            " #   Column              Non-Null Count  Dtype \n",
            "---  ------              --------------  ----- \n",
            " 0   Unnamed: 0          8661 non-null   int64 \n",
            " 1   playlist_id         8661 non-null   object\n",
            " 2   playlist_name       8661 non-null   object\n",
            " 3   track_id            8661 non-null   object\n",
            " 4   track_name          8659 non-null   object\n",
            " 5   artist_names        8659 non-null   object\n",
            " 6   album_name          8659 non-null   object\n",
            " 7   album_release_date  8661 non-null   object\n",
            " 8   popularity          8661 non-null   int64 \n",
            " 9   duration_ms         8661 non-null   int64 \n",
            "dtypes: int64(3), object(7)\n",
            "memory usage: 676.8+ KB\n"
          ]
        }
      ]
    },
    {
      "cell_type": "code",
      "source": [
        "playlists_tracks.describe()"
      ],
      "metadata": {
        "colab": {
          "base_uri": "https://localhost:8080/",
          "height": 300
        },
        "id": "UJ0qma7CDL8x",
        "outputId": "9d993b83-dfb9-4cdf-f60e-ef702d96f2bd"
      },
      "execution_count": 33,
      "outputs": [
        {
          "output_type": "execute_result",
          "data": {
            "text/plain": [
              "        Unnamed: 0   popularity    duration_ms\n",
              "count  8661.000000  8661.000000    8661.000000\n",
              "mean   4340.874726    41.165108  228949.218451\n",
              "std    2501.759314    28.636868   59203.878040\n",
              "min       0.000000     0.000000       0.000000\n",
              "25%    2176.000000     3.000000  192173.000000\n",
              "50%    4341.000000    49.000000  221820.000000\n",
              "75%    6506.000000    64.000000  255653.000000\n",
              "max    8679.000000    91.000000  676776.000000"
            ],
            "text/html": [
              "\n",
              "  <div id=\"df-2a74d1b2-23d7-4e80-b236-ee25c2219589\" class=\"colab-df-container\">\n",
              "    <div>\n",
              "<style scoped>\n",
              "    .dataframe tbody tr th:only-of-type {\n",
              "        vertical-align: middle;\n",
              "    }\n",
              "\n",
              "    .dataframe tbody tr th {\n",
              "        vertical-align: top;\n",
              "    }\n",
              "\n",
              "    .dataframe thead th {\n",
              "        text-align: right;\n",
              "    }\n",
              "</style>\n",
              "<table border=\"1\" class=\"dataframe\">\n",
              "  <thead>\n",
              "    <tr style=\"text-align: right;\">\n",
              "      <th></th>\n",
              "      <th>Unnamed: 0</th>\n",
              "      <th>popularity</th>\n",
              "      <th>duration_ms</th>\n",
              "    </tr>\n",
              "  </thead>\n",
              "  <tbody>\n",
              "    <tr>\n",
              "      <th>count</th>\n",
              "      <td>8661.000000</td>\n",
              "      <td>8661.000000</td>\n",
              "      <td>8661.000000</td>\n",
              "    </tr>\n",
              "    <tr>\n",
              "      <th>mean</th>\n",
              "      <td>4340.874726</td>\n",
              "      <td>41.165108</td>\n",
              "      <td>228949.218451</td>\n",
              "    </tr>\n",
              "    <tr>\n",
              "      <th>std</th>\n",
              "      <td>2501.759314</td>\n",
              "      <td>28.636868</td>\n",
              "      <td>59203.878040</td>\n",
              "    </tr>\n",
              "    <tr>\n",
              "      <th>min</th>\n",
              "      <td>0.000000</td>\n",
              "      <td>0.000000</td>\n",
              "      <td>0.000000</td>\n",
              "    </tr>\n",
              "    <tr>\n",
              "      <th>25%</th>\n",
              "      <td>2176.000000</td>\n",
              "      <td>3.000000</td>\n",
              "      <td>192173.000000</td>\n",
              "    </tr>\n",
              "    <tr>\n",
              "      <th>50%</th>\n",
              "      <td>4341.000000</td>\n",
              "      <td>49.000000</td>\n",
              "      <td>221820.000000</td>\n",
              "    </tr>\n",
              "    <tr>\n",
              "      <th>75%</th>\n",
              "      <td>6506.000000</td>\n",
              "      <td>64.000000</td>\n",
              "      <td>255653.000000</td>\n",
              "    </tr>\n",
              "    <tr>\n",
              "      <th>max</th>\n",
              "      <td>8679.000000</td>\n",
              "      <td>91.000000</td>\n",
              "      <td>676776.000000</td>\n",
              "    </tr>\n",
              "  </tbody>\n",
              "</table>\n",
              "</div>\n",
              "    <div class=\"colab-df-buttons\">\n",
              "\n",
              "  <div class=\"colab-df-container\">\n",
              "    <button class=\"colab-df-convert\" onclick=\"convertToInteractive('df-2a74d1b2-23d7-4e80-b236-ee25c2219589')\"\n",
              "            title=\"Convert this dataframe to an interactive table.\"\n",
              "            style=\"display:none;\">\n",
              "\n",
              "  <svg xmlns=\"http://www.w3.org/2000/svg\" height=\"24px\" viewBox=\"0 -960 960 960\">\n",
              "    <path d=\"M120-120v-720h720v720H120Zm60-500h600v-160H180v160Zm220 220h160v-160H400v160Zm0 220h160v-160H400v160ZM180-400h160v-160H180v160Zm440 0h160v-160H620v160ZM180-180h160v-160H180v160Zm440 0h160v-160H620v160Z\"/>\n",
              "  </svg>\n",
              "    </button>\n",
              "\n",
              "  <style>\n",
              "    .colab-df-container {\n",
              "      display:flex;\n",
              "      gap: 12px;\n",
              "    }\n",
              "\n",
              "    .colab-df-convert {\n",
              "      background-color: #E8F0FE;\n",
              "      border: none;\n",
              "      border-radius: 50%;\n",
              "      cursor: pointer;\n",
              "      display: none;\n",
              "      fill: #1967D2;\n",
              "      height: 32px;\n",
              "      padding: 0 0 0 0;\n",
              "      width: 32px;\n",
              "    }\n",
              "\n",
              "    .colab-df-convert:hover {\n",
              "      background-color: #E2EBFA;\n",
              "      box-shadow: 0px 1px 2px rgba(60, 64, 67, 0.3), 0px 1px 3px 1px rgba(60, 64, 67, 0.15);\n",
              "      fill: #174EA6;\n",
              "    }\n",
              "\n",
              "    .colab-df-buttons div {\n",
              "      margin-bottom: 4px;\n",
              "    }\n",
              "\n",
              "    [theme=dark] .colab-df-convert {\n",
              "      background-color: #3B4455;\n",
              "      fill: #D2E3FC;\n",
              "    }\n",
              "\n",
              "    [theme=dark] .colab-df-convert:hover {\n",
              "      background-color: #434B5C;\n",
              "      box-shadow: 0px 1px 3px 1px rgba(0, 0, 0, 0.15);\n",
              "      filter: drop-shadow(0px 1px 2px rgba(0, 0, 0, 0.3));\n",
              "      fill: #FFFFFF;\n",
              "    }\n",
              "  </style>\n",
              "\n",
              "    <script>\n",
              "      const buttonEl =\n",
              "        document.querySelector('#df-2a74d1b2-23d7-4e80-b236-ee25c2219589 button.colab-df-convert');\n",
              "      buttonEl.style.display =\n",
              "        google.colab.kernel.accessAllowed ? 'block' : 'none';\n",
              "\n",
              "      async function convertToInteractive(key) {\n",
              "        const element = document.querySelector('#df-2a74d1b2-23d7-4e80-b236-ee25c2219589');\n",
              "        const dataTable =\n",
              "          await google.colab.kernel.invokeFunction('convertToInteractive',\n",
              "                                                    [key], {});\n",
              "        if (!dataTable) return;\n",
              "\n",
              "        const docLinkHtml = 'Like what you see? Visit the ' +\n",
              "          '<a target=\"_blank\" href=https://colab.research.google.com/notebooks/data_table.ipynb>data table notebook</a>'\n",
              "          + ' to learn more about interactive tables.';\n",
              "        element.innerHTML = '';\n",
              "        dataTable['output_type'] = 'display_data';\n",
              "        await google.colab.output.renderOutput(dataTable, element);\n",
              "        const docLink = document.createElement('div');\n",
              "        docLink.innerHTML = docLinkHtml;\n",
              "        element.appendChild(docLink);\n",
              "      }\n",
              "    </script>\n",
              "  </div>\n",
              "\n",
              "\n",
              "    <div id=\"df-104c0abe-0a57-4a9a-9c4b-dd290b05319f\">\n",
              "      <button class=\"colab-df-quickchart\" onclick=\"quickchart('df-104c0abe-0a57-4a9a-9c4b-dd290b05319f')\"\n",
              "                title=\"Suggest charts\"\n",
              "                style=\"display:none;\">\n",
              "\n",
              "<svg xmlns=\"http://www.w3.org/2000/svg\" height=\"24px\"viewBox=\"0 0 24 24\"\n",
              "     width=\"24px\">\n",
              "    <g>\n",
              "        <path d=\"M19 3H5c-1.1 0-2 .9-2 2v14c0 1.1.9 2 2 2h14c1.1 0 2-.9 2-2V5c0-1.1-.9-2-2-2zM9 17H7v-7h2v7zm4 0h-2V7h2v10zm4 0h-2v-4h2v4z\"/>\n",
              "    </g>\n",
              "</svg>\n",
              "      </button>\n",
              "\n",
              "<style>\n",
              "  .colab-df-quickchart {\n",
              "      --bg-color: #E8F0FE;\n",
              "      --fill-color: #1967D2;\n",
              "      --hover-bg-color: #E2EBFA;\n",
              "      --hover-fill-color: #174EA6;\n",
              "      --disabled-fill-color: #AAA;\n",
              "      --disabled-bg-color: #DDD;\n",
              "  }\n",
              "\n",
              "  [theme=dark] .colab-df-quickchart {\n",
              "      --bg-color: #3B4455;\n",
              "      --fill-color: #D2E3FC;\n",
              "      --hover-bg-color: #434B5C;\n",
              "      --hover-fill-color: #FFFFFF;\n",
              "      --disabled-bg-color: #3B4455;\n",
              "      --disabled-fill-color: #666;\n",
              "  }\n",
              "\n",
              "  .colab-df-quickchart {\n",
              "    background-color: var(--bg-color);\n",
              "    border: none;\n",
              "    border-radius: 50%;\n",
              "    cursor: pointer;\n",
              "    display: none;\n",
              "    fill: var(--fill-color);\n",
              "    height: 32px;\n",
              "    padding: 0;\n",
              "    width: 32px;\n",
              "  }\n",
              "\n",
              "  .colab-df-quickchart:hover {\n",
              "    background-color: var(--hover-bg-color);\n",
              "    box-shadow: 0 1px 2px rgba(60, 64, 67, 0.3), 0 1px 3px 1px rgba(60, 64, 67, 0.15);\n",
              "    fill: var(--button-hover-fill-color);\n",
              "  }\n",
              "\n",
              "  .colab-df-quickchart-complete:disabled,\n",
              "  .colab-df-quickchart-complete:disabled:hover {\n",
              "    background-color: var(--disabled-bg-color);\n",
              "    fill: var(--disabled-fill-color);\n",
              "    box-shadow: none;\n",
              "  }\n",
              "\n",
              "  .colab-df-spinner {\n",
              "    border: 2px solid var(--fill-color);\n",
              "    border-color: transparent;\n",
              "    border-bottom-color: var(--fill-color);\n",
              "    animation:\n",
              "      spin 1s steps(1) infinite;\n",
              "  }\n",
              "\n",
              "  @keyframes spin {\n",
              "    0% {\n",
              "      border-color: transparent;\n",
              "      border-bottom-color: var(--fill-color);\n",
              "      border-left-color: var(--fill-color);\n",
              "    }\n",
              "    20% {\n",
              "      border-color: transparent;\n",
              "      border-left-color: var(--fill-color);\n",
              "      border-top-color: var(--fill-color);\n",
              "    }\n",
              "    30% {\n",
              "      border-color: transparent;\n",
              "      border-left-color: var(--fill-color);\n",
              "      border-top-color: var(--fill-color);\n",
              "      border-right-color: var(--fill-color);\n",
              "    }\n",
              "    40% {\n",
              "      border-color: transparent;\n",
              "      border-right-color: var(--fill-color);\n",
              "      border-top-color: var(--fill-color);\n",
              "    }\n",
              "    60% {\n",
              "      border-color: transparent;\n",
              "      border-right-color: var(--fill-color);\n",
              "    }\n",
              "    80% {\n",
              "      border-color: transparent;\n",
              "      border-right-color: var(--fill-color);\n",
              "      border-bottom-color: var(--fill-color);\n",
              "    }\n",
              "    90% {\n",
              "      border-color: transparent;\n",
              "      border-bottom-color: var(--fill-color);\n",
              "    }\n",
              "  }\n",
              "</style>\n",
              "\n",
              "      <script>\n",
              "        async function quickchart(key) {\n",
              "          const quickchartButtonEl =\n",
              "            document.querySelector('#' + key + ' button');\n",
              "          quickchartButtonEl.disabled = true;  // To prevent multiple clicks.\n",
              "          quickchartButtonEl.classList.add('colab-df-spinner');\n",
              "          try {\n",
              "            const charts = await google.colab.kernel.invokeFunction(\n",
              "                'suggestCharts', [key], {});\n",
              "          } catch (error) {\n",
              "            console.error('Error during call to suggestCharts:', error);\n",
              "          }\n",
              "          quickchartButtonEl.classList.remove('colab-df-spinner');\n",
              "          quickchartButtonEl.classList.add('colab-df-quickchart-complete');\n",
              "        }\n",
              "        (() => {\n",
              "          let quickchartButtonEl =\n",
              "            document.querySelector('#df-104c0abe-0a57-4a9a-9c4b-dd290b05319f button');\n",
              "          quickchartButtonEl.style.display =\n",
              "            google.colab.kernel.accessAllowed ? 'block' : 'none';\n",
              "        })();\n",
              "      </script>\n",
              "    </div>\n",
              "\n",
              "    </div>\n",
              "  </div>\n"
            ],
            "application/vnd.google.colaboratory.intrinsic+json": {
              "type": "dataframe",
              "summary": "{\n  \"name\": \"playlists_tracks\",\n  \"rows\": 8,\n  \"fields\": [\n    {\n      \"column\": \"Unnamed: 0\",\n      \"properties\": {\n        \"dtype\": \"number\",\n        \"std\": 3123.982063033807,\n        \"min\": 0.0,\n        \"max\": 8679.0,\n        \"num_unique_values\": 8,\n        \"samples\": [\n          4340.874725782242,\n          4341.0,\n          8661.0\n        ],\n        \"semantic_type\": \"\",\n        \"description\": \"\"\n      }\n    },\n    {\n      \"column\": \"popularity\",\n      \"properties\": {\n        \"dtype\": \"number\",\n        \"std\": 3048.2942447174873,\n        \"min\": 0.0,\n        \"max\": 8661.0,\n        \"num_unique_values\": 8,\n        \"samples\": [\n          41.16510795520148,\n          49.0,\n          8661.0\n        ],\n        \"semantic_type\": \"\",\n        \"description\": \"\"\n      }\n    },\n    {\n      \"column\": \"duration_ms\",\n      \"properties\": {\n        \"dtype\": \"number\",\n        \"std\": 216461.32384264265,\n        \"min\": 0.0,\n        \"max\": 676776.0,\n        \"num_unique_values\": 8,\n        \"samples\": [\n          228949.21845052534,\n          221820.0,\n          8661.0\n        ],\n        \"semantic_type\": \"\",\n        \"description\": \"\"\n      }\n    }\n  ]\n}"
            }
          },
          "metadata": {},
          "execution_count": 33
        }
      ]
    },
    {
      "cell_type": "code",
      "source": [
        "playlists_tracks['playlist_name'].value_counts().head(5)"
      ],
      "metadata": {
        "colab": {
          "base_uri": "https://localhost:8080/",
          "height": 272
        },
        "id": "HN9BaSOVDPRB",
        "outputId": "2bd55b9c-0a81-4c4e-ddfb-b72e88301791"
      },
      "execution_count": 35,
      "outputs": [
        {
          "output_type": "execute_result",
          "data": {
            "text/plain": [
              "playlist_name\n",
              "Caminhando sem padrão nenhum         311\n",
              "Rockzim pra cantar junto             300\n",
              "cantando feat. rebolando             274\n",
              "tudo misturado curtindo uma chuva    261\n",
              "Radio em '00                         241\n",
              "Name: count, dtype: int64"
            ],
            "text/html": [
              "<div>\n",
              "<style scoped>\n",
              "    .dataframe tbody tr th:only-of-type {\n",
              "        vertical-align: middle;\n",
              "    }\n",
              "\n",
              "    .dataframe tbody tr th {\n",
              "        vertical-align: top;\n",
              "    }\n",
              "\n",
              "    .dataframe thead th {\n",
              "        text-align: right;\n",
              "    }\n",
              "</style>\n",
              "<table border=\"1\" class=\"dataframe\">\n",
              "  <thead>\n",
              "    <tr style=\"text-align: right;\">\n",
              "      <th></th>\n",
              "      <th>count</th>\n",
              "    </tr>\n",
              "    <tr>\n",
              "      <th>playlist_name</th>\n",
              "      <th></th>\n",
              "    </tr>\n",
              "  </thead>\n",
              "  <tbody>\n",
              "    <tr>\n",
              "      <th>Caminhando sem padrão nenhum</th>\n",
              "      <td>311</td>\n",
              "    </tr>\n",
              "    <tr>\n",
              "      <th>Rockzim pra cantar junto</th>\n",
              "      <td>300</td>\n",
              "    </tr>\n",
              "    <tr>\n",
              "      <th>cantando feat. rebolando</th>\n",
              "      <td>274</td>\n",
              "    </tr>\n",
              "    <tr>\n",
              "      <th>tudo misturado curtindo uma chuva</th>\n",
              "      <td>261</td>\n",
              "    </tr>\n",
              "    <tr>\n",
              "      <th>Radio em '00</th>\n",
              "      <td>241</td>\n",
              "    </tr>\n",
              "  </tbody>\n",
              "</table>\n",
              "</div><br><label><b>dtype:</b> int64</label>"
            ]
          },
          "metadata": {},
          "execution_count": 35
        }
      ]
    },
    {
      "cell_type": "markdown",
      "source": [
        "### Limpeza e transformações\n",
        "\n",
        "Antes de analisarmos as playlists e os gêneros, vamos preparar nossos dados:\n",
        "1. Extrair apenas o **ano** da data de lançamento dos álbuns  \n",
        "2. Remover músicas com **nome ausente**  \n",
        "3. Transformar a tabela de gêneros para que cada **gênero tenha uma linha própria**"
      ],
      "metadata": {
        "id": "1WFkae2sV94I"
      }
    },
    {
      "cell_type": "markdown",
      "source": [
        "1. Extrair o ano"
      ],
      "metadata": {
        "id": "3oeKWXpzc4lf"
      }
    },
    {
      "cell_type": "code",
      "source": [
        "playlists_tracks['album_release_date_ajustado'] = pd.to_datetime(playlists_tracks['album_release_date'], errors=\"coerce\")\n"
      ],
      "metadata": {
        "id": "vJTk3iKXECA_"
      },
      "execution_count": 37,
      "outputs": []
    },
    {
      "cell_type": "code",
      "source": [
        "playlists_tracks.columns"
      ],
      "metadata": {
        "colab": {
          "base_uri": "https://localhost:8080/"
        },
        "id": "Z7y7CnmcE4sy",
        "outputId": "9c790400-1eff-4da1-d1e3-b27699a6fc1e"
      },
      "execution_count": 38,
      "outputs": [
        {
          "output_type": "execute_result",
          "data": {
            "text/plain": [
              "Index(['Unnamed: 0', 'playlist_id', 'playlist_name', 'track_id', 'track_name',\n",
              "       'artist_names', 'album_name', 'album_release_date', 'popularity',\n",
              "       'duration_ms', 'album_release_date_ajustado'],\n",
              "      dtype='object')"
            ]
          },
          "metadata": {},
          "execution_count": 38
        }
      ]
    },
    {
      "cell_type": "code",
      "source": [
        "playlists_tracks['album_release_year'] = playlists_tracks['album_release_date_ajustado'].dt.year\n",
        "playlists_tracks.head(3)"
      ],
      "metadata": {
        "colab": {
          "base_uri": "https://localhost:8080/",
          "height": 319
        },
        "id": "TRg3Jd-HE1o8",
        "outputId": "5bb3610f-c257-4405-c042-07cfc1153174"
      },
      "execution_count": 39,
      "outputs": [
        {
          "output_type": "execute_result",
          "data": {
            "text/plain": [
              "   Unnamed: 0             playlist_id           playlist_name  \\\n",
              "0           0  2VhIiQbHHMKRPEeCukaeZt  Climinha de presencial   \n",
              "1           1  2VhIiQbHHMKRPEeCukaeZt  Climinha de presencial   \n",
              "2           2  2VhIiQbHHMKRPEeCukaeZt  Climinha de presencial   \n",
              "\n",
              "                 track_id                       track_name  \\\n",
              "0  59WN2psjkt1tyaxjspN8fp              Killing In The Name   \n",
              "1  2DlHlPMa4M17kufBvI2lEN                       Chop Suey!   \n",
              "2  3DwQ7AH3xGD9h65ezslm6q  Enter Sandman - Remastered 2021   \n",
              "\n",
              "               artist_names  \\\n",
              "0  Rage Against The Machine   \n",
              "1          System Of A Down   \n",
              "2                 Metallica   \n",
              "\n",
              "                                          album_name album_release_date  \\\n",
              "0  Rage Against The Machine - XX (20th Anniversar...               1992   \n",
              "1                                           Toxicity         2001-09-04   \n",
              "2              Metallica (Remastered Deluxe Box Set)         2021-09-10   \n",
              "\n",
              "   popularity  duration_ms album_release_date_ajustado  album_release_year  \n",
              "0          79       313573                  1992-01-01              1992.0  \n",
              "1          85       210240                         NaT                 NaN  \n",
              "2          83       331560                         NaT                 NaN  "
            ],
            "text/html": [
              "\n",
              "  <div id=\"df-21b84c79-53b4-43bf-b7bb-016c8580e83a\" class=\"colab-df-container\">\n",
              "    <div>\n",
              "<style scoped>\n",
              "    .dataframe tbody tr th:only-of-type {\n",
              "        vertical-align: middle;\n",
              "    }\n",
              "\n",
              "    .dataframe tbody tr th {\n",
              "        vertical-align: top;\n",
              "    }\n",
              "\n",
              "    .dataframe thead th {\n",
              "        text-align: right;\n",
              "    }\n",
              "</style>\n",
              "<table border=\"1\" class=\"dataframe\">\n",
              "  <thead>\n",
              "    <tr style=\"text-align: right;\">\n",
              "      <th></th>\n",
              "      <th>Unnamed: 0</th>\n",
              "      <th>playlist_id</th>\n",
              "      <th>playlist_name</th>\n",
              "      <th>track_id</th>\n",
              "      <th>track_name</th>\n",
              "      <th>artist_names</th>\n",
              "      <th>album_name</th>\n",
              "      <th>album_release_date</th>\n",
              "      <th>popularity</th>\n",
              "      <th>duration_ms</th>\n",
              "      <th>album_release_date_ajustado</th>\n",
              "      <th>album_release_year</th>\n",
              "    </tr>\n",
              "  </thead>\n",
              "  <tbody>\n",
              "    <tr>\n",
              "      <th>0</th>\n",
              "      <td>0</td>\n",
              "      <td>2VhIiQbHHMKRPEeCukaeZt</td>\n",
              "      <td>Climinha de presencial</td>\n",
              "      <td>59WN2psjkt1tyaxjspN8fp</td>\n",
              "      <td>Killing In The Name</td>\n",
              "      <td>Rage Against The Machine</td>\n",
              "      <td>Rage Against The Machine - XX (20th Anniversar...</td>\n",
              "      <td>1992</td>\n",
              "      <td>79</td>\n",
              "      <td>313573</td>\n",
              "      <td>1992-01-01</td>\n",
              "      <td>1992.0</td>\n",
              "    </tr>\n",
              "    <tr>\n",
              "      <th>1</th>\n",
              "      <td>1</td>\n",
              "      <td>2VhIiQbHHMKRPEeCukaeZt</td>\n",
              "      <td>Climinha de presencial</td>\n",
              "      <td>2DlHlPMa4M17kufBvI2lEN</td>\n",
              "      <td>Chop Suey!</td>\n",
              "      <td>System Of A Down</td>\n",
              "      <td>Toxicity</td>\n",
              "      <td>2001-09-04</td>\n",
              "      <td>85</td>\n",
              "      <td>210240</td>\n",
              "      <td>NaT</td>\n",
              "      <td>NaN</td>\n",
              "    </tr>\n",
              "    <tr>\n",
              "      <th>2</th>\n",
              "      <td>2</td>\n",
              "      <td>2VhIiQbHHMKRPEeCukaeZt</td>\n",
              "      <td>Climinha de presencial</td>\n",
              "      <td>3DwQ7AH3xGD9h65ezslm6q</td>\n",
              "      <td>Enter Sandman - Remastered 2021</td>\n",
              "      <td>Metallica</td>\n",
              "      <td>Metallica (Remastered Deluxe Box Set)</td>\n",
              "      <td>2021-09-10</td>\n",
              "      <td>83</td>\n",
              "      <td>331560</td>\n",
              "      <td>NaT</td>\n",
              "      <td>NaN</td>\n",
              "    </tr>\n",
              "  </tbody>\n",
              "</table>\n",
              "</div>\n",
              "    <div class=\"colab-df-buttons\">\n",
              "\n",
              "  <div class=\"colab-df-container\">\n",
              "    <button class=\"colab-df-convert\" onclick=\"convertToInteractive('df-21b84c79-53b4-43bf-b7bb-016c8580e83a')\"\n",
              "            title=\"Convert this dataframe to an interactive table.\"\n",
              "            style=\"display:none;\">\n",
              "\n",
              "  <svg xmlns=\"http://www.w3.org/2000/svg\" height=\"24px\" viewBox=\"0 -960 960 960\">\n",
              "    <path d=\"M120-120v-720h720v720H120Zm60-500h600v-160H180v160Zm220 220h160v-160H400v160Zm0 220h160v-160H400v160ZM180-400h160v-160H180v160Zm440 0h160v-160H620v160ZM180-180h160v-160H180v160Zm440 0h160v-160H620v160Z\"/>\n",
              "  </svg>\n",
              "    </button>\n",
              "\n",
              "  <style>\n",
              "    .colab-df-container {\n",
              "      display:flex;\n",
              "      gap: 12px;\n",
              "    }\n",
              "\n",
              "    .colab-df-convert {\n",
              "      background-color: #E8F0FE;\n",
              "      border: none;\n",
              "      border-radius: 50%;\n",
              "      cursor: pointer;\n",
              "      display: none;\n",
              "      fill: #1967D2;\n",
              "      height: 32px;\n",
              "      padding: 0 0 0 0;\n",
              "      width: 32px;\n",
              "    }\n",
              "\n",
              "    .colab-df-convert:hover {\n",
              "      background-color: #E2EBFA;\n",
              "      box-shadow: 0px 1px 2px rgba(60, 64, 67, 0.3), 0px 1px 3px 1px rgba(60, 64, 67, 0.15);\n",
              "      fill: #174EA6;\n",
              "    }\n",
              "\n",
              "    .colab-df-buttons div {\n",
              "      margin-bottom: 4px;\n",
              "    }\n",
              "\n",
              "    [theme=dark] .colab-df-convert {\n",
              "      background-color: #3B4455;\n",
              "      fill: #D2E3FC;\n",
              "    }\n",
              "\n",
              "    [theme=dark] .colab-df-convert:hover {\n",
              "      background-color: #434B5C;\n",
              "      box-shadow: 0px 1px 3px 1px rgba(0, 0, 0, 0.15);\n",
              "      filter: drop-shadow(0px 1px 2px rgba(0, 0, 0, 0.3));\n",
              "      fill: #FFFFFF;\n",
              "    }\n",
              "  </style>\n",
              "\n",
              "    <script>\n",
              "      const buttonEl =\n",
              "        document.querySelector('#df-21b84c79-53b4-43bf-b7bb-016c8580e83a button.colab-df-convert');\n",
              "      buttonEl.style.display =\n",
              "        google.colab.kernel.accessAllowed ? 'block' : 'none';\n",
              "\n",
              "      async function convertToInteractive(key) {\n",
              "        const element = document.querySelector('#df-21b84c79-53b4-43bf-b7bb-016c8580e83a');\n",
              "        const dataTable =\n",
              "          await google.colab.kernel.invokeFunction('convertToInteractive',\n",
              "                                                    [key], {});\n",
              "        if (!dataTable) return;\n",
              "\n",
              "        const docLinkHtml = 'Like what you see? Visit the ' +\n",
              "          '<a target=\"_blank\" href=https://colab.research.google.com/notebooks/data_table.ipynb>data table notebook</a>'\n",
              "          + ' to learn more about interactive tables.';\n",
              "        element.innerHTML = '';\n",
              "        dataTable['output_type'] = 'display_data';\n",
              "        await google.colab.output.renderOutput(dataTable, element);\n",
              "        const docLink = document.createElement('div');\n",
              "        docLink.innerHTML = docLinkHtml;\n",
              "        element.appendChild(docLink);\n",
              "      }\n",
              "    </script>\n",
              "  </div>\n",
              "\n",
              "\n",
              "    <div id=\"df-4d7c46d8-68c1-43a2-bb8a-84129f201027\">\n",
              "      <button class=\"colab-df-quickchart\" onclick=\"quickchart('df-4d7c46d8-68c1-43a2-bb8a-84129f201027')\"\n",
              "                title=\"Suggest charts\"\n",
              "                style=\"display:none;\">\n",
              "\n",
              "<svg xmlns=\"http://www.w3.org/2000/svg\" height=\"24px\"viewBox=\"0 0 24 24\"\n",
              "     width=\"24px\">\n",
              "    <g>\n",
              "        <path d=\"M19 3H5c-1.1 0-2 .9-2 2v14c0 1.1.9 2 2 2h14c1.1 0 2-.9 2-2V5c0-1.1-.9-2-2-2zM9 17H7v-7h2v7zm4 0h-2V7h2v10zm4 0h-2v-4h2v4z\"/>\n",
              "    </g>\n",
              "</svg>\n",
              "      </button>\n",
              "\n",
              "<style>\n",
              "  .colab-df-quickchart {\n",
              "      --bg-color: #E8F0FE;\n",
              "      --fill-color: #1967D2;\n",
              "      --hover-bg-color: #E2EBFA;\n",
              "      --hover-fill-color: #174EA6;\n",
              "      --disabled-fill-color: #AAA;\n",
              "      --disabled-bg-color: #DDD;\n",
              "  }\n",
              "\n",
              "  [theme=dark] .colab-df-quickchart {\n",
              "      --bg-color: #3B4455;\n",
              "      --fill-color: #D2E3FC;\n",
              "      --hover-bg-color: #434B5C;\n",
              "      --hover-fill-color: #FFFFFF;\n",
              "      --disabled-bg-color: #3B4455;\n",
              "      --disabled-fill-color: #666;\n",
              "  }\n",
              "\n",
              "  .colab-df-quickchart {\n",
              "    background-color: var(--bg-color);\n",
              "    border: none;\n",
              "    border-radius: 50%;\n",
              "    cursor: pointer;\n",
              "    display: none;\n",
              "    fill: var(--fill-color);\n",
              "    height: 32px;\n",
              "    padding: 0;\n",
              "    width: 32px;\n",
              "  }\n",
              "\n",
              "  .colab-df-quickchart:hover {\n",
              "    background-color: var(--hover-bg-color);\n",
              "    box-shadow: 0 1px 2px rgba(60, 64, 67, 0.3), 0 1px 3px 1px rgba(60, 64, 67, 0.15);\n",
              "    fill: var(--button-hover-fill-color);\n",
              "  }\n",
              "\n",
              "  .colab-df-quickchart-complete:disabled,\n",
              "  .colab-df-quickchart-complete:disabled:hover {\n",
              "    background-color: var(--disabled-bg-color);\n",
              "    fill: var(--disabled-fill-color);\n",
              "    box-shadow: none;\n",
              "  }\n",
              "\n",
              "  .colab-df-spinner {\n",
              "    border: 2px solid var(--fill-color);\n",
              "    border-color: transparent;\n",
              "    border-bottom-color: var(--fill-color);\n",
              "    animation:\n",
              "      spin 1s steps(1) infinite;\n",
              "  }\n",
              "\n",
              "  @keyframes spin {\n",
              "    0% {\n",
              "      border-color: transparent;\n",
              "      border-bottom-color: var(--fill-color);\n",
              "      border-left-color: var(--fill-color);\n",
              "    }\n",
              "    20% {\n",
              "      border-color: transparent;\n",
              "      border-left-color: var(--fill-color);\n",
              "      border-top-color: var(--fill-color);\n",
              "    }\n",
              "    30% {\n",
              "      border-color: transparent;\n",
              "      border-left-color: var(--fill-color);\n",
              "      border-top-color: var(--fill-color);\n",
              "      border-right-color: var(--fill-color);\n",
              "    }\n",
              "    40% {\n",
              "      border-color: transparent;\n",
              "      border-right-color: var(--fill-color);\n",
              "      border-top-color: var(--fill-color);\n",
              "    }\n",
              "    60% {\n",
              "      border-color: transparent;\n",
              "      border-right-color: var(--fill-color);\n",
              "    }\n",
              "    80% {\n",
              "      border-color: transparent;\n",
              "      border-right-color: var(--fill-color);\n",
              "      border-bottom-color: var(--fill-color);\n",
              "    }\n",
              "    90% {\n",
              "      border-color: transparent;\n",
              "      border-bottom-color: var(--fill-color);\n",
              "    }\n",
              "  }\n",
              "</style>\n",
              "\n",
              "      <script>\n",
              "        async function quickchart(key) {\n",
              "          const quickchartButtonEl =\n",
              "            document.querySelector('#' + key + ' button');\n",
              "          quickchartButtonEl.disabled = true;  // To prevent multiple clicks.\n",
              "          quickchartButtonEl.classList.add('colab-df-spinner');\n",
              "          try {\n",
              "            const charts = await google.colab.kernel.invokeFunction(\n",
              "                'suggestCharts', [key], {});\n",
              "          } catch (error) {\n",
              "            console.error('Error during call to suggestCharts:', error);\n",
              "          }\n",
              "          quickchartButtonEl.classList.remove('colab-df-spinner');\n",
              "          quickchartButtonEl.classList.add('colab-df-quickchart-complete');\n",
              "        }\n",
              "        (() => {\n",
              "          let quickchartButtonEl =\n",
              "            document.querySelector('#df-4d7c46d8-68c1-43a2-bb8a-84129f201027 button');\n",
              "          quickchartButtonEl.style.display =\n",
              "            google.colab.kernel.accessAllowed ? 'block' : 'none';\n",
              "        })();\n",
              "      </script>\n",
              "    </div>\n",
              "\n",
              "    </div>\n",
              "  </div>\n"
            ],
            "application/vnd.google.colaboratory.intrinsic+json": {
              "type": "dataframe",
              "variable_name": "playlists_tracks",
              "summary": "{\n  \"name\": \"playlists_tracks\",\n  \"rows\": 8661,\n  \"fields\": [\n    {\n      \"column\": \"Unnamed: 0\",\n      \"properties\": {\n        \"dtype\": \"number\",\n        \"std\": 2501,\n        \"min\": 0,\n        \"max\": 8679,\n        \"num_unique_values\": 8661,\n        \"samples\": [\n          3271,\n          239,\n          3256\n        ],\n        \"semantic_type\": \"\",\n        \"description\": \"\"\n      }\n    },\n    {\n      \"column\": \"playlist_id\",\n      \"properties\": {\n        \"dtype\": \"category\",\n        \"num_unique_values\": 89,\n        \"samples\": [\n          \"0no2KKi6SivIxpuEpXwl7v\",\n          \"2woXzoH4bx2rhWP6t4N48I\",\n          \"7cboDxFx52hatgrCYRGoIh\"\n        ],\n        \"semantic_type\": \"\",\n        \"description\": \"\"\n      }\n    },\n    {\n      \"column\": \"playlist_name\",\n      \"properties\": {\n        \"dtype\": \"category\",\n        \"num_unique_values\": 89,\n        \"samples\": [\n          \"Manh\\u00e3 de domingo\",\n          \"Cl\\u00e1ssicos br\",\n          \"Original vs versao\"\n        ],\n        \"semantic_type\": \"\",\n        \"description\": \"\"\n      }\n    },\n    {\n      \"column\": \"track_id\",\n      \"properties\": {\n        \"dtype\": \"string\",\n        \"num_unique_values\": 4579,\n        \"samples\": [\n          \"0SjUqfCAkQYkNUSAn0p7y1\",\n          \"1zuKjpp4t7BS8JPKi6mkQr\",\n          \"40Gxnw5Vc8hnhGFknXHe3R\"\n        ],\n        \"semantic_type\": \"\",\n        \"description\": \"\"\n      }\n    },\n    {\n      \"column\": \"track_name\",\n      \"properties\": {\n        \"dtype\": \"category\",\n        \"num_unique_values\": 3869,\n        \"samples\": [\n          \"Quem J\\u00e1 Perdeu Um Sonho Aqui?\",\n          \"Bang!\",\n          \"Creep\"\n        ],\n        \"semantic_type\": \"\",\n        \"description\": \"\"\n      }\n    },\n    {\n      \"column\": \"artist_names\",\n      \"properties\": {\n        \"dtype\": \"category\",\n        \"num_unique_values\": 1418,\n        \"samples\": [\n          \"Parcels\",\n          \"Cold War Kids\",\n          \"Josyara\"\n        ],\n        \"semantic_type\": \"\",\n        \"description\": \"\"\n      }\n    },\n    {\n      \"column\": \"album_name\",\n      \"properties\": {\n        \"dtype\": \"category\",\n        \"num_unique_values\": 2478,\n        \"samples\": [\n          \"PRISM (Deluxe)\",\n          \"Prolonging the Magic\",\n          \"Memoirs of an imperfect Angel (International Version)\"\n        ],\n        \"semantic_type\": \"\",\n        \"description\": \"\"\n      }\n    },\n    {\n      \"column\": \"album_release_date\",\n      \"properties\": {\n        \"dtype\": \"category\",\n        \"num_unique_values\": 1654,\n        \"samples\": [\n          \"2017-01-06\",\n          \"2018-05-25\",\n          \"2015-12-18\"\n        ],\n        \"semantic_type\": \"\",\n        \"description\": \"\"\n      }\n    },\n    {\n      \"column\": \"popularity\",\n      \"properties\": {\n        \"dtype\": \"number\",\n        \"std\": 28,\n        \"min\": 0,\n        \"max\": 91,\n        \"num_unique_values\": 92,\n        \"samples\": [\n          50,\n          62,\n          27\n        ],\n        \"semantic_type\": \"\",\n        \"description\": \"\"\n      }\n    },\n    {\n      \"column\": \"duration_ms\",\n      \"properties\": {\n        \"dtype\": \"number\",\n        \"std\": 59203,\n        \"min\": 0,\n        \"max\": 676776,\n        \"num_unique_values\": 3767,\n        \"samples\": [\n          226680,\n          192253,\n          128333\n        ],\n        \"semantic_type\": \"\",\n        \"description\": \"\"\n      }\n    },\n    {\n      \"column\": \"album_release_date_ajustado\",\n      \"properties\": {\n        \"dtype\": \"date\",\n        \"min\": \"1958-01-01 00:00:00\",\n        \"max\": \"2019-01-01 00:00:00\",\n        \"num_unique_values\": 53,\n        \"samples\": [\n          \"1982-01-01 00:00:00\",\n          \"1993-01-01 00:00:00\",\n          \"2005-01-01 00:00:00\"\n        ],\n        \"semantic_type\": \"\",\n        \"description\": \"\"\n      }\n    },\n    {\n      \"column\": \"album_release_year\",\n      \"properties\": {\n        \"dtype\": \"number\",\n        \"std\": 15.551281594115203,\n        \"min\": 1958.0,\n        \"max\": 2019.0,\n        \"num_unique_values\": 53,\n        \"samples\": [\n          1982.0,\n          1993.0,\n          2005.0\n        ],\n        \"semantic_type\": \"\",\n        \"description\": \"\"\n      }\n    }\n  ]\n}"
            }
          },
          "metadata": {},
          "execution_count": 39
        }
      ]
    },
    {
      "cell_type": "markdown",
      "source": [
        "2. Excluir linhas com track_name ausente"
      ],
      "metadata": {
        "id": "ht0VnowHdx-W"
      }
    },
    {
      "cell_type": "code",
      "source": [
        "# qtde de linhas antes da limpesa\n",
        "playlists_tracks.shape"
      ],
      "metadata": {
        "colab": {
          "base_uri": "https://localhost:8080/"
        },
        "id": "F-Ip58rWFq-S",
        "outputId": "4cd13b46-3204-4186-ee33-ff8105bfb958"
      },
      "execution_count": 41,
      "outputs": [
        {
          "output_type": "execute_result",
          "data": {
            "text/plain": [
              "(8661, 12)"
            ]
          },
          "metadata": {},
          "execution_count": 41
        }
      ]
    },
    {
      "cell_type": "code",
      "source": [
        "# limpando linhas vazias\n",
        "playlists_tracks_clean = playlists_tracks.dropna(subset=['track_name'])\n",
        "playlists_tracks_clean.shape"
      ],
      "metadata": {
        "colab": {
          "base_uri": "https://localhost:8080/"
        },
        "id": "4-DwhdeBFPFi",
        "outputId": "05a956be-1892-4db8-fffd-e39b82b14025"
      },
      "execution_count": 42,
      "outputs": [
        {
          "output_type": "execute_result",
          "data": {
            "text/plain": [
              "(8659, 12)"
            ]
          },
          "metadata": {},
          "execution_count": 42
        }
      ]
    },
    {
      "cell_type": "markdown",
      "source": [
        "3. Explodir os gêneros (1 linha por artista e gênero)"
      ],
      "metadata": {
        "id": "DmFcdVeneGdx"
      }
    },
    {
      "cell_type": "markdown",
      "source": [
        "## Visualização com Matplotlib\n",
        "\n",
        "<img src=\"https://media4.giphy.com/media/v1.Y2lkPTc5MGI3NjExazlycDZvOXZzbXN1Z2djZzZ3cnU0M3FkeXdnbzJxMGdjbmpsZGVseSZlcD12MV9pbnRlcm5hbF9naWZfYnlfaWQmY3Q9Zw/iRIf7MAdvOIbdxK4rR/giphy.gif\" width=\"300\">\n",
        "\n",
        "Agora que os dados estão limpos, vamos responder algumas perguntas com gráficos."
      ],
      "metadata": {
        "id": "aj6AFpEtQ8GE"
      }
    },
    {
      "cell_type": "code",
      "source": [
        "import matplotlib.pyplot as plt"
      ],
      "metadata": {
        "id": "ionAf_BeGbhy"
      },
      "execution_count": 43,
      "outputs": []
    },
    {
      "cell_type": "markdown",
      "source": [
        "### Quais playlists têm mais músicas?"
      ],
      "metadata": {
        "id": "AP08WGtihFFd"
      }
    },
    {
      "cell_type": "code",
      "source": [
        "playlists_counts = playlists_tracks_clean['playlist_name'].value_counts().head(10)\n",
        "playlists_counts"
      ],
      "metadata": {
        "colab": {
          "base_uri": "https://localhost:8080/",
          "height": 429
        },
        "id": "VptSd8SwGlJh",
        "outputId": "8a9b0054-71cb-41f4-803f-f838c5cc9174"
      },
      "execution_count": 44,
      "outputs": [
        {
          "output_type": "execute_result",
          "data": {
            "text/plain": [
              "playlist_name\n",
              "Caminhando sem padrão nenhum         311\n",
              "Rockzim pra cantar junto             300\n",
              "cantando feat. rebolando             274\n",
              "tudo misturado curtindo uma chuva    261\n",
              "Radio em '00                         241\n",
              "VOLTA JUVENTUDE                      239\n",
              "Black power                          231\n",
              "jovem indie                          219\n",
              "Top indie                            215\n",
              "Só ~good vibe~                       210\n",
              "Name: count, dtype: int64"
            ],
            "text/html": [
              "<div>\n",
              "<style scoped>\n",
              "    .dataframe tbody tr th:only-of-type {\n",
              "        vertical-align: middle;\n",
              "    }\n",
              "\n",
              "    .dataframe tbody tr th {\n",
              "        vertical-align: top;\n",
              "    }\n",
              "\n",
              "    .dataframe thead th {\n",
              "        text-align: right;\n",
              "    }\n",
              "</style>\n",
              "<table border=\"1\" class=\"dataframe\">\n",
              "  <thead>\n",
              "    <tr style=\"text-align: right;\">\n",
              "      <th></th>\n",
              "      <th>count</th>\n",
              "    </tr>\n",
              "    <tr>\n",
              "      <th>playlist_name</th>\n",
              "      <th></th>\n",
              "    </tr>\n",
              "  </thead>\n",
              "  <tbody>\n",
              "    <tr>\n",
              "      <th>Caminhando sem padrão nenhum</th>\n",
              "      <td>311</td>\n",
              "    </tr>\n",
              "    <tr>\n",
              "      <th>Rockzim pra cantar junto</th>\n",
              "      <td>300</td>\n",
              "    </tr>\n",
              "    <tr>\n",
              "      <th>cantando feat. rebolando</th>\n",
              "      <td>274</td>\n",
              "    </tr>\n",
              "    <tr>\n",
              "      <th>tudo misturado curtindo uma chuva</th>\n",
              "      <td>261</td>\n",
              "    </tr>\n",
              "    <tr>\n",
              "      <th>Radio em '00</th>\n",
              "      <td>241</td>\n",
              "    </tr>\n",
              "    <tr>\n",
              "      <th>VOLTA JUVENTUDE</th>\n",
              "      <td>239</td>\n",
              "    </tr>\n",
              "    <tr>\n",
              "      <th>Black power</th>\n",
              "      <td>231</td>\n",
              "    </tr>\n",
              "    <tr>\n",
              "      <th>jovem indie</th>\n",
              "      <td>219</td>\n",
              "    </tr>\n",
              "    <tr>\n",
              "      <th>Top indie</th>\n",
              "      <td>215</td>\n",
              "    </tr>\n",
              "    <tr>\n",
              "      <th>Só ~good vibe~</th>\n",
              "      <td>210</td>\n",
              "    </tr>\n",
              "  </tbody>\n",
              "</table>\n",
              "</div><br><label><b>dtype:</b> int64</label>"
            ]
          },
          "metadata": {},
          "execution_count": 44
        }
      ]
    },
    {
      "cell_type": "code",
      "source": [
        "playlists_counts.plot(kind='barh', figsize=(8, 5))\n",
        "plt.xlabel('Quantidade de Músicas')\n",
        "plt.ylabel('')\n",
        "plt.title('Top 10 playlist com mais músicas')\n",
        "plt.show()"
      ],
      "metadata": {
        "colab": {
          "base_uri": "https://localhost:8080/",
          "height": 488
        },
        "id": "QxhLyJzYG10P",
        "outputId": "c9608968-af5e-4572-823f-5c4b8bd55383"
      },
      "execution_count": 46,
      "outputs": [
        {
          "output_type": "display_data",
          "data": {
            "text/plain": [
              "<Figure size 800x500 with 1 Axes>"
            ],
            "image/png": "[encoded data removed]"
          },
          "metadata": {}
        }
      ]
    },
    {
      "cell_type": "markdown",
      "source": [
        "### Como evolui a quantidade de músicas lançadas por ano nas playlists?"
      ],
      "metadata": {
        "id": "8U6zI5MUjy15"
      }
    },
    {
      "cell_type": "code",
      "source": [
        "plt.style.use('seaborn-v0_8')"
      ],
      "metadata": {
        "id": "1cYgmXwsIOfG"
      },
      "execution_count": 47,
      "outputs": []
    },
    {
      "cell_type": "code",
      "source": [
        "songs_per_year = (\n",
        "    playlists_tracks_clean['album_release_date']\n",
        "    .value_counts()\n",
        "    .sort_index()\n",
        ")"
      ],
      "metadata": {
        "id": "ZbMSP0jRIfgB"
      },
      "execution_count": 48,
      "outputs": []
    },
    {
      "cell_type": "code",
      "source": [
        "songs_per_year.plot(kind='line', marker=\"o\", figsize=(10, 4))\n",
        "plt.xlabel('')\n",
        "plt.ylabel('Número de Músicas')\n",
        "plt.title('Quantidade de músicas lançadas por ano', loc='left')\n",
        "plt.grid(True, linestyle='--')\n",
        "plt.show()"
      ],
      "metadata": {
        "colab": {
          "base_uri": "https://localhost:8080/",
          "height": 389
        },
        "id": "EYwr2zl9I9mF",
        "outputId": "270de6cb-88bf-44dd-aa45-15187293ab80"
      },
      "execution_count": 53,
      "outputs": [
        {
          "output_type": "display_data",
          "data": {
            "text/plain": [
              "<Figure size 1000x400 with 1 Axes>"
            ],
            "image/png": "[encoded data removed]"
          },
          "metadata": {}
        }
      ]
    },
    {
      "cell_type": "markdown",
      "source": [
        "### Quais são os artistas com maior popularidade média?"
      ],
      "metadata": {
        "id": "TsaZw2nCkc-k"
      }
    },
    {
      "cell_type": "markdown",
      "source": [
        "### Quais são os artistas mais frequentes nas playlists?"
      ],
      "metadata": {
        "id": "zmegD-KXhfBW"
      }
    },
    {
      "cell_type": "markdown",
      "source": [
        "### Quais gêneros são mais frequentes entre os artistas das playlists?"
      ],
      "metadata": {
        "id": "fy4CotOxhuU_"
      }
    },
    {
      "cell_type": "markdown",
      "source": [
        "### Qual é a duração média das músicas por playlist?"
      ],
      "metadata": {
        "id": "_8cn99nhiIGg"
      }
    },
    {
      "cell_type": "markdown",
      "source": [
        "### Exercício: Existe relação entre o ano de lançamento e a duração média das músicas?"
      ],
      "metadata": {
        "id": "45zwpjq1CNcs"
      }
    },
    {
      "cell_type": "markdown",
      "source": [
        "### Exercício: Quão diversa em gêneros é cada playlist?\n",
        "Em outras palavras, quais playlists têm mais gêneros distintos entre os artistas que aparecem nelas?"
      ],
      "metadata": {
        "id": "kdXDKgWkCdVB"
      }
    },
    {
      "cell_type": "markdown",
      "source": [
        "---\n",
        "\n",
        "<img src=\"https://media2.giphy.com/media/v1.Y2lkPTc5MGI3NjExMmxwajYzcWh3NmRhNjN0N2plMDV5ZGdrcHQ0ZnlqeW55bTd6NjdnYSZlcD12MV9pbnRlcm5hbF9naWZfYnlfaWQmY3Q9Zw/lD76yTC5zxZPG/giphy.gif\" width=\"300\">"
      ],
      "metadata": {
        "id": "X0WET5iqApTt"
      }
    }
  ]
}